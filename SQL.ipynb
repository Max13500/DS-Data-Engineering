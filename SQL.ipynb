{
 "cells": [
  {
   "cell_type": "markdown",
   "id": "89bda141",
   "metadata": {},
   "source": [
    "### Imports et création BDD"
   ]
  },
  {
   "cell_type": "code",
   "execution_count": 1,
   "id": "b337bad3",
   "metadata": {},
   "outputs": [],
   "source": [
    "import sqlite3, sqlalchemy\n",
    "from sqlalchemy import Table, Column, Integer, String, ForeignKey, MetaData, create_engine, text, inspect\n",
    "from IPython.display import Markdown, display"
   ]
  },
  {
   "cell_type": "code",
   "execution_count": 2,
   "id": "440ecbfe",
   "metadata": {},
   "outputs": [],
   "source": [
    "# Connexion moteur SQLite et création BDD\n",
    "engine = create_engine('sqlite:///colleges.db',echo=True)"
   ]
  },
  {
   "cell_type": "markdown",
   "id": "6c33ecaa",
   "metadata": {},
   "source": [
    "### Création tables"
   ]
  },
  {
   "cell_type": "code",
   "execution_count": 3,
   "id": "a36a8d68",
   "metadata": {},
   "outputs": [],
   "source": [
    "# Objet Metadata\n",
    "meta = MetaData()"
   ]
  },
  {
   "cell_type": "code",
   "execution_count": 4,
   "id": "cafc5a7f",
   "metadata": {},
   "outputs": [
    {
     "name": "stdout",
     "output_type": "stream",
     "text": [
      "2025-06-29 23:32:12,674 INFO sqlalchemy.engine.Engine BEGIN (implicit)\n",
      "2025-06-29 23:32:12,675 INFO sqlalchemy.engine.Engine PRAGMA main.table_info(\"parcours\")\n",
      "2025-06-29 23:32:12,675 INFO sqlalchemy.engine.Engine [raw sql] ()\n",
      "2025-06-29 23:32:12,677 INFO sqlalchemy.engine.Engine PRAGMA temp.table_info(\"parcours\")\n",
      "2025-06-29 23:32:12,678 INFO sqlalchemy.engine.Engine [raw sql] ()\n",
      "2025-06-29 23:32:12,680 INFO sqlalchemy.engine.Engine \n",
      "CREATE TABLE parcours (\n",
      "\tid INTEGER NOT NULL, \n",
      "\tname VARCHAR, \n",
      "\tPRIMARY KEY (id)\n",
      ")\n",
      "\n",
      "\n",
      "2025-06-29 23:32:12,681 INFO sqlalchemy.engine.Engine [no key 0.00095s] ()\n",
      "2025-06-29 23:32:12,778 INFO sqlalchemy.engine.Engine COMMIT\n"
     ]
    }
   ],
   "source": [
    "# Création table parcours\n",
    "parcours = Table(\"parcours\",meta,\n",
    "                 Column(\"id\",Integer,primary_key=True),\n",
    "                 Column(\"name\",String))\n",
    "\n",
    "meta.create_all(engine)"
   ]
  },
  {
   "cell_type": "code",
   "execution_count": 5,
   "id": "c6e59063",
   "metadata": {},
   "outputs": [
    {
     "name": "stdout",
     "output_type": "stream",
     "text": [
      "2025-06-29 23:32:14,658 INFO sqlalchemy.engine.Engine BEGIN (implicit)\n",
      "2025-06-29 23:32:14,659 INFO sqlalchemy.engine.Engine PRAGMA main.table_info(\"parcours\")\n",
      "2025-06-29 23:32:14,660 INFO sqlalchemy.engine.Engine [raw sql] ()\n",
      "2025-06-29 23:32:14,661 INFO sqlalchemy.engine.Engine PRAGMA main.table_info(\"students\")\n",
      "2025-06-29 23:32:14,662 INFO sqlalchemy.engine.Engine [raw sql] ()\n",
      "2025-06-29 23:32:14,664 INFO sqlalchemy.engine.Engine PRAGMA temp.table_info(\"students\")\n",
      "2025-06-29 23:32:14,665 INFO sqlalchemy.engine.Engine [raw sql] ()\n",
      "2025-06-29 23:32:14,667 INFO sqlalchemy.engine.Engine \n",
      "CREATE TABLE students (\n",
      "\tid INTEGER NOT NULL, \n",
      "\tfirstname VARCHAR, \n",
      "\tlastname VARCHAR, \n",
      "\tparcours_id INTEGER, \n",
      "\tPRIMARY KEY (id), \n",
      "\tFOREIGN KEY(parcours_id) REFERENCES parcours (id)\n",
      ")\n",
      "\n",
      "\n",
      "2025-06-29 23:32:14,669 INFO sqlalchemy.engine.Engine [no key 0.00162s] ()\n",
      "2025-06-29 23:32:14,754 INFO sqlalchemy.engine.Engine COMMIT\n"
     ]
    }
   ],
   "source": [
    "# Création table students avec clé étrangère sur parcours\n",
    "students = Table(\"students\",meta,\n",
    "                 Column(\"id\",Integer,primary_key=True),\n",
    "                 Column(\"firstname\",String),\n",
    "                 Column(\"lastname\",String),\n",
    "                 Column(\"parcours_id\",Integer,ForeignKey(\"parcours.id\"))\n",
    "                )\n",
    "\n",
    "meta.create_all(engine)"
   ]
  },
  {
   "cell_type": "markdown",
   "id": "3e74e72d",
   "metadata": {},
   "source": [
    "### Insertion de lignes"
   ]
  },
  {
   "cell_type": "code",
   "execution_count": 6,
   "id": "594f0d0e",
   "metadata": {},
   "outputs": [],
   "source": [
    "values1 = [{\"id\":1, \"name\":\"Data Engineering\"},{\"id\":2, \"name\":\"Data Science\"}]\n",
    "\n",
    "values2 = [{\"id\":1, \"firstname\":\"Jean\",\"lastname\":\"Bart\", \"parcours_id\":2},{\"id\":2, \"firstname\":\"Edmond\",\"lastname\":\"Dantes\", \"parcours_id\":1}]"
   ]
  },
  {
   "cell_type": "code",
   "execution_count": 7,
   "id": "bd2a3d70",
   "metadata": {},
   "outputs": [
    {
     "name": "stdout",
     "output_type": "stream",
     "text": [
      "2025-06-29 23:32:19,305 INFO sqlalchemy.engine.Engine BEGIN (implicit)\n",
      "2025-06-29 23:32:19,306 INFO sqlalchemy.engine.Engine INSERT INTO parcours VALUES (?, ?)\n",
      "2025-06-29 23:32:19,308 INFO sqlalchemy.engine.Engine [generated in 0.00151s] [(1, 'Data Engineering'), (2, 'Data Science')]\n",
      "2025-06-29 23:32:19,310 INFO sqlalchemy.engine.Engine COMMIT\n"
     ]
    }
   ],
   "source": [
    "# on crée la connection\n",
    "with engine.connect() as connection:\n",
    "    # début de la transaction\n",
    "    with connection.begin() as transaction:\n",
    "        # on tente d'exécuter une transaction\n",
    "        try:\n",
    "            \n",
    "            # On utilise le langage SQL en format texte\n",
    "            ins = 'INSERT INTO {tablename} VALUES (:id, :name)'\n",
    "            \n",
    "            # On précise ce format particulier grâce à la fonction membre format\n",
    "            ins = ins.format(tablename=parcours.name)\n",
    "\n",
    "            # transformer la chaîne en instruction SQLAlchemy\n",
    "            stmt = text(ins)\n",
    "           \n",
    "            # Enfin on peut utiliser les dicos créés en exécutant la commande SQL\n",
    "            connection.execute(stmt, values1)\n",
    "        # si la transaction échoue\n",
    "        except:\n",
    "            transaction.rollback()\n",
    "            raise\n",
    "        # si la transaction réussit\n",
    "        else:\n",
    "            transaction.commit()"
   ]
  },
  {
   "cell_type": "markdown",
   "id": "9c4f6cb1",
   "metadata": {},
   "source": [
    "### Méthode plus directe"
   ]
  },
  {
   "cell_type": "code",
   "execution_count": null,
   "id": "ca8c1307",
   "metadata": {},
   "outputs": [
    {
     "name": "stdout",
     "output_type": "stream",
     "text": [
      "2025-06-29 23:38:43,152 INFO sqlalchemy.engine.Engine BEGIN (implicit)\n",
      "2025-06-29 23:38:43,153 INFO sqlalchemy.engine.Engine INSERT INTO students VALUES (?, ?, ?, ?)\n",
      "2025-06-29 23:38:43,154 INFO sqlalchemy.engine.Engine [cached since 329.1s ago] [(1, 'Jean', 'Bart', 2), (2, 'Edmond', 'Dantes', 1)]\n",
      "2025-06-29 23:38:43,156 INFO sqlalchemy.engine.Engine COMMIT\n"
     ]
    }
   ],
   "source": [
    "# On utilise le langage SQL en format texte\n",
    "ins = 'INSERT INTO {tablename} VALUES (:id, :firstname, :lastname, :parcours_id)'\n",
    "            \n",
    "# On précise ce format particulier grâce à la fonction membre format\n",
    "ins = ins.format(tablename=students.name)\n",
    "\n",
    "# transformer la chaîne en instruction SQLAlchemy\n",
    "stmt = text(ins)\n",
    "           \n",
    "# Fera automatiquement le COMMIT si ok, le ROLLBACK sinon\n",
    "with engine.begin() as connection:\n",
    "    connection.execute(stmt, values2)"
   ]
  },
  {
   "cell_type": "markdown",
   "id": "dd6ee4b4",
   "metadata": {},
   "source": [
    "### Inspector"
   ]
  },
  {
   "cell_type": "code",
   "execution_count": 10,
   "id": "d2306bbb",
   "metadata": {},
   "outputs": [],
   "source": [
    "inspector = inspect(engine)"
   ]
  },
  {
   "cell_type": "code",
   "execution_count": 11,
   "id": "07990f8e",
   "metadata": {},
   "outputs": [
    {
     "name": "stdout",
     "output_type": "stream",
     "text": [
      "2025-06-29 23:39:01,114 INFO sqlalchemy.engine.Engine BEGIN (implicit)\n",
      "2025-06-29 23:39:01,115 INFO sqlalchemy.engine.Engine SELECT name FROM sqlite_master WHERE type='table' AND name NOT LIKE 'sqlite~_%' ESCAPE '~' ORDER BY name\n",
      "2025-06-29 23:39:01,115 INFO sqlalchemy.engine.Engine [raw sql] ()\n",
      "2025-06-29 23:39:01,117 INFO sqlalchemy.engine.Engine ROLLBACK\n"
     ]
    },
    {
     "data": {
      "text/plain": [
       "['parcours', 'students']"
      ]
     },
     "execution_count": 11,
     "metadata": {},
     "output_type": "execute_result"
    }
   ],
   "source": [
    "# Liste des tables\n",
    "inspector.get_table_names()"
   ]
  },
  {
   "cell_type": "code",
   "execution_count": 12,
   "id": "6d91cfa0",
   "metadata": {},
   "outputs": [
    {
     "name": "stdout",
     "output_type": "stream",
     "text": [
      "2025-06-29 23:39:02,729 INFO sqlalchemy.engine.Engine BEGIN (implicit)\n",
      "2025-06-29 23:39:02,730 INFO sqlalchemy.engine.Engine PRAGMA main.table_xinfo(\"students\")\n",
      "2025-06-29 23:39:02,730 INFO sqlalchemy.engine.Engine [raw sql] ()\n",
      "2025-06-29 23:39:02,732 INFO sqlalchemy.engine.Engine ROLLBACK\n"
     ]
    },
    {
     "data": {
      "text/plain": [
       "[{'name': 'id',\n",
       "  'type': INTEGER(),\n",
       "  'nullable': False,\n",
       "  'default': None,\n",
       "  'primary_key': 1},\n",
       " {'name': 'firstname',\n",
       "  'type': VARCHAR(),\n",
       "  'nullable': True,\n",
       "  'default': None,\n",
       "  'primary_key': 0},\n",
       " {'name': 'lastname',\n",
       "  'type': VARCHAR(),\n",
       "  'nullable': True,\n",
       "  'default': None,\n",
       "  'primary_key': 0},\n",
       " {'name': 'parcours_id',\n",
       "  'type': INTEGER(),\n",
       "  'nullable': True,\n",
       "  'default': None,\n",
       "  'primary_key': 0}]"
      ]
     },
     "execution_count": 12,
     "metadata": {},
     "output_type": "execute_result"
    }
   ],
   "source": [
    "# Liste des colonnes d'une table\n",
    "inspector.get_columns(table_name='students')"
   ]
  },
  {
   "cell_type": "code",
   "execution_count": 13,
   "id": "2fcae101",
   "metadata": {},
   "outputs": [
    {
     "name": "stdout",
     "output_type": "stream",
     "text": [
      "2025-06-29 23:39:04,224 INFO sqlalchemy.engine.Engine BEGIN (implicit)\n",
      "2025-06-29 23:39:04,225 INFO sqlalchemy.engine.Engine PRAGMA main.foreign_key_list(\"students\")\n",
      "2025-06-29 23:39:04,226 INFO sqlalchemy.engine.Engine [raw sql] ()\n",
      "2025-06-29 23:39:04,228 INFO sqlalchemy.engine.Engine SELECT sql FROM  (SELECT * FROM sqlite_master UNION ALL   SELECT * FROM sqlite_temp_master) WHERE name = ? AND type in ('table', 'view')\n",
      "2025-06-29 23:39:04,228 INFO sqlalchemy.engine.Engine [raw sql] ('students',)\n",
      "2025-06-29 23:39:04,232 INFO sqlalchemy.engine.Engine ROLLBACK\n"
     ]
    },
    {
     "data": {
      "text/plain": [
       "[{'name': None,\n",
       "  'constrained_columns': ['parcours_id'],\n",
       "  'referred_schema': None,\n",
       "  'referred_table': 'parcours',\n",
       "  'referred_columns': ['id'],\n",
       "  'options': {}}]"
      ]
     },
     "execution_count": 13,
     "metadata": {},
     "output_type": "execute_result"
    }
   ],
   "source": [
    "# Liste des clés étrangères d'une table\n",
    "inspector.get_foreign_keys(table_name='students')"
   ]
  },
  {
   "cell_type": "markdown",
   "id": "fafa0605",
   "metadata": {},
   "source": [
    "### Lecture de lignes"
   ]
  },
  {
   "cell_type": "code",
   "execution_count": 14,
   "id": "282b0fd9",
   "metadata": {},
   "outputs": [
    {
     "name": "stdout",
     "output_type": "stream",
     "text": [
      "2025-06-29 23:39:24,323 INFO sqlalchemy.engine.Engine BEGIN (implicit)\n",
      "2025-06-29 23:39:24,324 INFO sqlalchemy.engine.Engine SELECT * FROM students;\n",
      "2025-06-29 23:39:24,326 INFO sqlalchemy.engine.Engine [generated in 0.00123s] ()\n",
      "[(1, 'Jean', 'Bart', 2), (2, 'Edmond', 'Dantes', 1)]\n",
      "2025-06-29 23:39:24,327 INFO sqlalchemy.engine.Engine COMMIT\n",
      "2025-06-29 23:39:24,328 INFO sqlalchemy.engine.Engine BEGIN (implicit)\n",
      "2025-06-29 23:39:24,329 INFO sqlalchemy.engine.Engine SELECT * FROM parcours;\n",
      "2025-06-29 23:39:24,329 INFO sqlalchemy.engine.Engine [generated in 0.00081s] ()\n",
      "[(1, 'Data Engineering'), (2, 'Data Science')]\n",
      "2025-06-29 23:39:24,331 INFO sqlalchemy.engine.Engine COMMIT\n"
     ]
    }
   ],
   "source": [
    "with engine.begin() as connection:\n",
    "    results = connection.execute(text(\"SELECT * FROM students;\"))\n",
    "    print(results.fetchall())\n",
    "\n",
    "with engine.begin() as connection:\n",
    "    results = connection.execute(text(\"SELECT * FROM parcours;\"))\n",
    "    print(results.fetchall())\n"
   ]
  },
  {
   "cell_type": "markdown",
   "id": "3ea208f3",
   "metadata": {},
   "source": [
    "### Suppression de tables"
   ]
  },
  {
   "cell_type": "code",
   "execution_count": 15,
   "id": "69b7cbb9",
   "metadata": {},
   "outputs": [
    {
     "name": "stdout",
     "output_type": "stream",
     "text": [
      "2025-06-29 23:39:52,836 INFO sqlalchemy.engine.Engine BEGIN (implicit)\n",
      "2025-06-29 23:39:52,837 INFO sqlalchemy.engine.Engine DROP TABLE IF EXISTS students;\n",
      "2025-06-29 23:39:52,838 INFO sqlalchemy.engine.Engine [generated in 0.00119s] ()\n",
      "2025-06-29 23:39:52,955 INFO sqlalchemy.engine.Engine COMMIT\n"
     ]
    }
   ],
   "source": [
    "with engine.begin() as connection:\n",
    "    results = connection.execute(text(\"DROP TABLE IF EXISTS students;\"))"
   ]
  },
  {
   "cell_type": "code",
   "execution_count": 17,
   "id": "2ce46911",
   "metadata": {},
   "outputs": [
    {
     "name": "stdout",
     "output_type": "stream",
     "text": [
      "2025-06-29 23:40:30,400 INFO sqlalchemy.engine.Engine BEGIN (implicit)\n",
      "2025-06-29 23:40:30,401 INFO sqlalchemy.engine.Engine SELECT name FROM sqlite_master WHERE type='table' AND name NOT LIKE 'sqlite~_%' ESCAPE '~' ORDER BY name\n",
      "2025-06-29 23:40:30,402 INFO sqlalchemy.engine.Engine [raw sql] ()\n",
      "2025-06-29 23:40:30,404 INFO sqlalchemy.engine.Engine ROLLBACK\n"
     ]
    },
    {
     "data": {
      "text/plain": [
       "['parcours']"
      ]
     },
     "execution_count": 17,
     "metadata": {},
     "output_type": "execute_result"
    }
   ],
   "source": [
    "inspector = inspect(engine)\n",
    "inspector.get_table_names()"
   ]
  }
 ],
 "metadata": {
  "kernelspec": {
   "display_name": "env",
   "language": "python",
   "name": "python3"
  },
  "language_info": {
   "codemirror_mode": {
    "name": "ipython",
    "version": 3
   },
   "file_extension": ".py",
   "mimetype": "text/x-python",
   "name": "python",
   "nbconvert_exporter": "python",
   "pygments_lexer": "ipython3",
   "version": "3.12.6"
  }
 },
 "nbformat": 4,
 "nbformat_minor": 5
}
